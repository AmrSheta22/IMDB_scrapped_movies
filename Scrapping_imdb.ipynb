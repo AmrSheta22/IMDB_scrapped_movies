{
 "cells": [
  {
   "cell_type": "code",
   "execution_count": 1,
   "metadata": {
    "ExecuteTime": {
     "end_time": "2021-12-06T18:36:52.893506Z",
     "start_time": "2021-12-06T18:36:52.641543Z"
    }
   },
   "outputs": [],
   "source": [
    "# import required libraries\n",
    "from bs4 import BeautifulSoup\n",
    "import re \n",
    "import requests\n",
    "import pandas as pd "
   ]
  },
  {
   "cell_type": "code",
   "execution_count": 2,
   "metadata": {
    "ExecuteTime": {
     "end_time": "2021-12-06T18:37:13.583969Z",
     "start_time": "2021-12-06T18:37:11.383004Z"
    }
   },
   "outputs": [],
   "source": [
    "# Downloading imdb top 250 movie's data\n",
    "url = 'http://www.imdb.com/chart/top'\n",
    "response = requests.get(url)\n",
    "soup = BeautifulSoup(response.text, 'lxml')"
   ]
  },
  {
   "cell_type": "code",
   "execution_count": 3,
   "metadata": {
    "ExecuteTime": {
     "end_time": "2021-12-06T18:37:36.450005Z",
     "start_time": "2021-12-06T18:37:35.906432Z"
    }
   },
   "outputs": [],
   "source": [
    "#getting the movies and their info, links , crew, ratings, votes\n",
    "movies = soup.select('td.titleColumn')\n",
    "links = [a.attrs.get('href') for a in soup.select('td.titleColumn a')]\n",
    "crew = [a.attrs.get('title') for a in soup.select('td.titleColumn a')]\n",
    "ratings = [b.attrs.get('data-value') for b in soup.select('td.posterColumn span[name=ir]')]\n",
    "votes = [b.attrs.get('data-value') for b in soup.select('td.ratingColumn strong')]"
   ]
  },
  {
   "cell_type": "markdown",
   "metadata": {},
   "source": [
    "Now I have all the data in lists, now all i have to do is to add them together to \n",
    "make the dataframe, but movie names are in a weird shape so I have to loop over them and extract the name from the rubbish as you see below."
   ]
  },
  {
   "cell_type": "code",
   "execution_count": 25,
   "metadata": {
    "ExecuteTime": {
     "end_time": "2021-12-06T19:01:25.526016Z",
     "start_time": "2021-12-06T19:01:25.508550Z"
    }
   },
   "outputs": [
    {
     "data": {
      "text/plain": [
       "[<td class=\"titleColumn\">\n",
       "       1.\n",
       "       <a href=\"/title/tt0111161/\" title=\"Frank Darabont (dir.), Tim Robbins, Morgan Freeman\">The Shawshank Redemption</a>\n",
       " <span class=\"secondaryInfo\">(1994)</span>\n",
       " </td>,\n",
       " <td class=\"titleColumn\">\n",
       "       2.\n",
       "       <a href=\"/title/tt0068646/\" title=\"Francis Ford Coppola (dir.), Marlon Brando, Al Pacino\">The Godfather</a>\n",
       " <span class=\"secondaryInfo\">(1972)</span>\n",
       " </td>,\n",
       " <td class=\"titleColumn\">\n",
       "       3.\n",
       "       <a href=\"/title/tt0071562/\" title=\"Francis Ford Coppola (dir.), Al Pacino, Robert De Niro\">The Godfather: Part II</a>\n",
       " <span class=\"secondaryInfo\">(1974)</span>\n",
       " </td>]"
      ]
     },
     "execution_count": 25,
     "metadata": {},
     "output_type": "execute_result"
    }
   ],
   "source": [
    "movies[:3]"
   ]
  },
  {
   "cell_type": "code",
   "execution_count": 8,
   "metadata": {
    "ExecuteTime": {
     "end_time": "2021-12-06T18:41:24.587974Z",
     "start_time": "2021-12-06T18:41:24.571970Z"
    }
   },
   "outputs": [],
   "source": [
    "movie_info = [] \n",
    "for index in range(0, len(movies)):\n",
    "    movie_string = movies[index].get_text()\n",
    "    movie = (' '.join(movie_string.split()).replace('.', ''))\n",
    "    #extracting movie title\n",
    "    movie_title = movie[len(str(index))+1:-7]\n",
    "    #search for any string between braces because it's the year as in the cell below\n",
    "    year = re.search('\\((.*?)\\)', movie_string).group(1)\n",
    "    # extracting the place from the text\n",
    "    place = movie[:len(str(index))-(len(movie))]\n",
    "     \n",
    "    data = {\"movie_title\": movie_title,\n",
    "            \"year\": year,\n",
    "            \"place\": place,\n",
    "            \"star_cast\": crew[index],\n",
    "            \"rating\": ratings[index],\n",
    "            \"vote\": votes[index],\n",
    "            \"link\": links[index]}\n",
    "    movie_info.append(data)"
   ]
  },
  {
   "cell_type": "code",
   "execution_count": 28,
   "metadata": {
    "ExecuteTime": {
     "end_time": "2021-12-06T19:04:33.251937Z",
     "start_time": "2021-12-06T19:04:33.243935Z"
    }
   },
   "outputs": [
    {
     "data": {
      "text/plain": [
       "'250 Paris, Texas (1984)'"
      ]
     },
     "execution_count": 28,
     "metadata": {},
     "output_type": "execute_result"
    }
   ],
   "source": [
    "movie_string = movies[0].get_text()\n",
    "movie = (' '.join(movie_string.split()).replace('.', ''))\n",
    "movie"
   ]
  },
  {
   "cell_type": "markdown",
   "metadata": {},
   "source": [
    "Make a dataframe that contains the imdb data"
   ]
  },
  {
   "cell_type": "code",
   "execution_count": 18,
   "metadata": {
    "ExecuteTime": {
     "end_time": "2021-12-06T18:48:46.557574Z",
     "start_time": "2021-12-06T18:48:46.541565Z"
    }
   },
   "outputs": [
    {
     "data": {
      "text/html": [
       "<div>\n",
       "<style scoped>\n",
       "    .dataframe tbody tr th:only-of-type {\n",
       "        vertical-align: middle;\n",
       "    }\n",
       "\n",
       "    .dataframe tbody tr th {\n",
       "        vertical-align: top;\n",
       "    }\n",
       "\n",
       "    .dataframe thead th {\n",
       "        text-align: right;\n",
       "    }\n",
       "</style>\n",
       "<table border=\"1\" class=\"dataframe\">\n",
       "  <thead>\n",
       "    <tr style=\"text-align: right;\">\n",
       "      <th></th>\n",
       "      <th>movie_title</th>\n",
       "      <th>year</th>\n",
       "      <th>place</th>\n",
       "      <th>star_cast</th>\n",
       "      <th>rating</th>\n",
       "      <th>vote</th>\n",
       "      <th>link</th>\n",
       "    </tr>\n",
       "  </thead>\n",
       "  <tbody>\n",
       "    <tr>\n",
       "      <th>0</th>\n",
       "      <td>The Shawshank Redemption</td>\n",
       "      <td>1994</td>\n",
       "      <td>1</td>\n",
       "      <td>Frank Darabont (dir.), Tim Robbins, Morgan Fre...</td>\n",
       "      <td>9.220860737306785</td>\n",
       "      <td>None</td>\n",
       "      <td>/title/tt0111161/</td>\n",
       "    </tr>\n",
       "    <tr>\n",
       "      <th>1</th>\n",
       "      <td>The Godfather</td>\n",
       "      <td>1972</td>\n",
       "      <td>2</td>\n",
       "      <td>Francis Ford Coppola (dir.), Marlon Brando, Al...</td>\n",
       "      <td>9.14725905437589</td>\n",
       "      <td>None</td>\n",
       "      <td>/title/tt0068646/</td>\n",
       "    </tr>\n",
       "    <tr>\n",
       "      <th>2</th>\n",
       "      <td>The Godfather: Part II</td>\n",
       "      <td>1974</td>\n",
       "      <td>3</td>\n",
       "      <td>Francis Ford Coppola (dir.), Al Pacino, Robert...</td>\n",
       "      <td>8.98092122519619</td>\n",
       "      <td>None</td>\n",
       "      <td>/title/tt0071562/</td>\n",
       "    </tr>\n",
       "    <tr>\n",
       "      <th>3</th>\n",
       "      <td>The Dark Knight</td>\n",
       "      <td>2008</td>\n",
       "      <td>4</td>\n",
       "      <td>Christopher Nolan (dir.), Christian Bale, Heat...</td>\n",
       "      <td>8.974760631150177</td>\n",
       "      <td>None</td>\n",
       "      <td>/title/tt0468569/</td>\n",
       "    </tr>\n",
       "    <tr>\n",
       "      <th>4</th>\n",
       "      <td>12 Angry Men</td>\n",
       "      <td>1957</td>\n",
       "      <td>5</td>\n",
       "      <td>Sidney Lumet (dir.), Henry Fonda, Lee J. Cobb</td>\n",
       "      <td>8.941315356719992</td>\n",
       "      <td>None</td>\n",
       "      <td>/title/tt0050083/</td>\n",
       "    </tr>\n",
       "  </tbody>\n",
       "</table>\n",
       "</div>"
      ],
      "text/plain": [
       "                movie_title  year place  \\\n",
       "0  The Shawshank Redemption  1994     1   \n",
       "1             The Godfather  1972     2   \n",
       "2    The Godfather: Part II  1974     3   \n",
       "3           The Dark Knight  2008     4   \n",
       "4              12 Angry Men  1957     5   \n",
       "\n",
       "                                           star_cast             rating  vote  \\\n",
       "0  Frank Darabont (dir.), Tim Robbins, Morgan Fre...  9.220860737306785  None   \n",
       "1  Francis Ford Coppola (dir.), Marlon Brando, Al...   9.14725905437589  None   \n",
       "2  Francis Ford Coppola (dir.), Al Pacino, Robert...   8.98092122519619  None   \n",
       "3  Christopher Nolan (dir.), Christian Bale, Heat...  8.974760631150177  None   \n",
       "4      Sidney Lumet (dir.), Henry Fonda, Lee J. Cobb  8.941315356719992  None   \n",
       "\n",
       "                link  \n",
       "0  /title/tt0111161/  \n",
       "1  /title/tt0068646/  \n",
       "2  /title/tt0071562/  \n",
       "3  /title/tt0468569/  \n",
       "4  /title/tt0050083/  "
      ]
     },
     "execution_count": 18,
     "metadata": {},
     "output_type": "execute_result"
    }
   ],
   "source": [
    "\n",
    "data = pd.DataFrame(movie_info)\n",
    "data.head()"
   ]
  },
  {
   "cell_type": "markdown",
   "metadata": {},
   "source": [
    "# Benefits of data scrapping"
   ]
  },
  {
   "cell_type": "markdown",
   "metadata": {},
   "source": [
    "1- Data scrapping makes more data accessible for data analysts "
   ]
  },
  {
   "cell_type": "markdown",
   "metadata": {},
   "source": [
    "2- It's available for everybody to do. "
   ]
  },
  {
   "cell_type": "markdown",
   "metadata": {},
   "source": [
    "3- There are a lot of ways and tools to use it "
   ]
  },
  {
   "cell_type": "markdown",
   "metadata": {},
   "source": [
    "4- In most cases it doesn't cost a lot, so it's pretty cost-efficient "
   ]
  },
  {
   "cell_type": "code",
   "execution_count": null,
   "metadata": {},
   "outputs": [],
   "source": []
  }
 ],
 "metadata": {
  "kernelspec": {
   "display_name": "Python 3",
   "language": "python",
   "name": "python3"
  },
  "language_info": {
   "codemirror_mode": {
    "name": "ipython",
    "version": 3
   },
   "file_extension": ".py",
   "mimetype": "text/x-python",
   "name": "python",
   "nbconvert_exporter": "python",
   "pygments_lexer": "ipython3",
   "version": "3.8.5"
  },
  "varInspector": {
   "cols": {
    "lenName": 16,
    "lenType": 16,
    "lenVar": 40
   },
   "kernels_config": {
    "python": {
     "delete_cmd_postfix": "",
     "delete_cmd_prefix": "del ",
     "library": "var_list.py",
     "varRefreshCmd": "print(var_dic_list())"
    },
    "r": {
     "delete_cmd_postfix": ") ",
     "delete_cmd_prefix": "rm(",
     "library": "var_list.r",
     "varRefreshCmd": "cat(var_dic_list()) "
    }
   },
   "position": {
    "height": "144.183px",
    "left": "860px",
    "right": "20px",
    "top": "116px",
    "width": "350px"
   },
   "types_to_exclude": [
    "module",
    "function",
    "builtin_function_or_method",
    "instance",
    "_Feature"
   ],
   "window_display": false
  }
 },
 "nbformat": 4,
 "nbformat_minor": 4
}
